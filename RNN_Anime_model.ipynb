{
  "nbformat": 4,
  "nbformat_minor": 0,
  "metadata": {
    "colab": {
      "name": "RNN-Anime-model.ipynb",
      "version": "0.3.2",
      "provenance": [],
      "collapsed_sections": [],
      "toc_visible": true,
      "include_colab_link": true
    },
    "kernelspec": {
      "name": "python3",
      "display_name": "Python 3"
    },
    "accelerator": "TPU"
  },
  "cells": [
    {
      "cell_type": "markdown",
      "metadata": {
        "id": "view-in-github",
        "colab_type": "text"
      },
      "source": [
        "<a href=\"https://colab.research.google.com/github/fukushun1994/RNN-Anime-model/blob/master/RNN_Anime_model.ipynb\" target=\"_parent\"><img src=\"https://colab.research.google.com/assets/colab-badge.svg\" alt=\"Open In Colab\"/></a>"
      ]
    },
    {
      "metadata": {
        "id": "aNbXs-n-fYqC",
        "colab_type": "text"
      },
      "cell_type": "markdown",
      "source": [
        "# 環境構築\n"
      ]
    },
    {
      "metadata": {
        "id": "kZotviBtgg_H",
        "colab_type": "text"
      },
      "cell_type": "markdown",
      "source": [
        "## TPUの設定\n",
        "\n",
        "ランタイム > ランタイムのタイプを変更 で ハードウェアアクセラレータをTPUに設定\n",
        "\n"
      ]
    },
    {
      "metadata": {
        "id": "mWDwGHZzhdI4",
        "colab_type": "text"
      },
      "cell_type": "markdown",
      "source": [
        "Google Colab でTPUが使えるかチェック"
      ]
    },
    {
      "metadata": {
        "id": "M9NLxrwigxng",
        "colab_type": "code",
        "outputId": "ec6e8c03-bada-4219-bf22-bcfb4678db70",
        "colab": {
          "base_uri": "https://localhost:8080/",
          "height": 255
        }
      },
      "cell_type": "code",
      "source": [
        "import os\n",
        "import pprint\n",
        "import tensorflow as tf\n",
        "\n",
        "if 'COLAB_TPU_ADDR' not in os.environ:\n",
        "  print('ERROR: Not connected to a TPU runtime; please see the first cell in this notebook for instructions!')\n",
        "else:\n",
        "  tpu_address = 'grpc://' + os.environ['COLAB_TPU_ADDR']\n",
        "  print ('TPU address is', tpu_address)\n",
        "\n",
        "  with tf.Session(tpu_address) as session:\n",
        "    devices = session.list_devices()\n",
        "    \n",
        "  print('TPU devices:')\n",
        "  pprint.pprint(devices)"
      ],
      "execution_count": 0,
      "outputs": [
        {
          "output_type": "stream",
          "text": [
            "TPU address is grpc://10.61.108.146:8470\n",
            "TPU devices:\n",
            "[_DeviceAttributes(/job:tpu_worker/replica:0/task:0/device:CPU:0, CPU, -1, 6451243092619256862),\n",
            " _DeviceAttributes(/job:tpu_worker/replica:0/task:0/device:XLA_CPU:0, XLA_CPU, 17179869184, 12687380745649448051),\n",
            " _DeviceAttributes(/job:tpu_worker/replica:0/task:0/device:XLA_GPU:0, XLA_GPU, 17179869184, 3001828563917283008),\n",
            " _DeviceAttributes(/job:tpu_worker/replica:0/task:0/device:TPU:0, TPU, 17179869184, 10556619114126885709),\n",
            " _DeviceAttributes(/job:tpu_worker/replica:0/task:0/device:TPU:1, TPU, 17179869184, 288463987303251174),\n",
            " _DeviceAttributes(/job:tpu_worker/replica:0/task:0/device:TPU:2, TPU, 17179869184, 6453442571066480757),\n",
            " _DeviceAttributes(/job:tpu_worker/replica:0/task:0/device:TPU:3, TPU, 17179869184, 17199960894891622339),\n",
            " _DeviceAttributes(/job:tpu_worker/replica:0/task:0/device:TPU:4, TPU, 17179869184, 1712409129858502805),\n",
            " _DeviceAttributes(/job:tpu_worker/replica:0/task:0/device:TPU:5, TPU, 17179869184, 12326872951983714973),\n",
            " _DeviceAttributes(/job:tpu_worker/replica:0/task:0/device:TPU:6, TPU, 17179869184, 3113528693922073784),\n",
            " _DeviceAttributes(/job:tpu_worker/replica:0/task:0/device:TPU:7, TPU, 17179869184, 15974757065477092706),\n",
            " _DeviceAttributes(/job:tpu_worker/replica:0/task:0/device:TPU_SYSTEM:0, TPU_SYSTEM, 17179869184, 14614712994248207222)]\n"
          ],
          "name": "stdout"
        }
      ]
    },
    {
      "metadata": {
        "id": "OlqWpx3Lkc1O",
        "colab_type": "code",
        "colab": {}
      },
      "cell_type": "code",
      "source": [
        ""
      ],
      "execution_count": 0,
      "outputs": []
    },
    {
      "metadata": {
        "id": "_MdB2tFkozhL",
        "colab_type": "text"
      },
      "cell_type": "markdown",
      "source": [
        "# データの準備\n"
      ]
    },
    {
      "metadata": {
        "id": "zQPYWRcpo2Da",
        "colab_type": "text"
      },
      "cell_type": "markdown",
      "source": [
        "## Google Drive のマウント"
      ]
    },
    {
      "metadata": {
        "id": "VjSVqUcXpsGK",
        "colab_type": "code",
        "colab": {
          "base_uri": "https://localhost:8080/",
          "height": 122
        },
        "outputId": "c5b71905-e7f7-473e-931e-f405d6829752"
      },
      "cell_type": "code",
      "source": [
        "from google.colab import drive\n",
        "drive.mount('/content/gdrive')"
      ],
      "execution_count": 8,
      "outputs": [
        {
          "output_type": "stream",
          "text": [
            "Go to this URL in a browser: https://accounts.google.com/o/oauth2/auth?client_id=947318989803-6bn6qk8qdgf4n4g3pfee6491hc0brc4i.apps.googleusercontent.com&redirect_uri=urn%3Aietf%3Awg%3Aoauth%3A2.0%3Aoob&scope=email%20https%3A%2F%2Fwww.googleapis.com%2Fauth%2Fdocs.test%20https%3A%2F%2Fwww.googleapis.com%2Fauth%2Fdrive%20https%3A%2F%2Fwww.googleapis.com%2Fauth%2Fdrive.photos.readonly%20https%3A%2F%2Fwww.googleapis.com%2Fauth%2Fpeopleapi.readonly&response_type=code\n",
            "\n",
            "Enter your authorization code:\n",
            "··········\n",
            "Mounted at /content/gdrive\n"
          ],
          "name": "stdout"
        }
      ]
    },
    {
      "metadata": {
        "id": "udVUnXpdtAoS",
        "colab_type": "text"
      },
      "cell_type": "markdown",
      "source": [
        "## データの取得"
      ]
    },
    {
      "metadata": {
        "id": "oudjKZQau5v7",
        "colab_type": "code",
        "colab": {
          "base_uri": "https://localhost:8080/",
          "height": 918
        },
        "outputId": "56815103-d45f-4f35-eae6-20f524fe4f7e"
      },
      "cell_type": "code",
      "source": [
        "import zipfile\n",
        "import numpy as np\n",
        "from PIL import Image\n",
        "\n",
        "DATA_DIR = '/content/gdrive/My Drive/YuyushikiData/'\n",
        "ZIP_FILE_NAMES = ['ep1.zip']\n",
        "\n",
        "dataset = []\n",
        "for zip_file_name in ZIP_FILE_NAMES:\n",
        "  data = []\n",
        "  with zipfile.ZipFile(DATA_DIR+zip_file_name, 'r') as zp:\n",
        "    image_count = len(zp.namelist())\n",
        "    print('open {} ({} images)'.format(zip_file_name, image_count))\n",
        "    for i, image_name in enumerate(sorted(zp.namelist())):\n",
        "      print('\\r{}/{}'.format(i, image_count), end='')\n",
        "      with zp.open(image_name, 'r') as fp:\n",
        "        img_vec = np.array(Image.open(fp))\n",
        "        data.append(img_vec[:,:,:3])\n",
        "  dataset.append(data)\n",
        "print('')\n",
        "\n",
        "print(len(dataset[0]))\n",
        "print(dataset[0][0].shape)\n",
        "print(dataset[0][0])"
      ],
      "execution_count": 13,
      "outputs": [
        {
          "output_type": "stream",
          "text": [
            "open ep1.zip (26235 images)\n",
            "26234/26235\n",
            "26235\n",
            "(72, 128, 3)\n",
            "[[[1 0 1]\n",
            "  [1 0 1]\n",
            "  [1 0 1]\n",
            "  ...\n",
            "  [1 0 1]\n",
            "  [1 0 1]\n",
            "  [1 0 1]]\n",
            "\n",
            " [[1 0 1]\n",
            "  [1 0 1]\n",
            "  [1 0 1]\n",
            "  ...\n",
            "  [1 0 1]\n",
            "  [1 0 1]\n",
            "  [1 0 1]]\n",
            "\n",
            " [[1 0 1]\n",
            "  [1 0 1]\n",
            "  [1 0 1]\n",
            "  ...\n",
            "  [1 0 1]\n",
            "  [1 0 1]\n",
            "  [1 0 1]]\n",
            "\n",
            " ...\n",
            "\n",
            " [[1 0 1]\n",
            "  [1 0 1]\n",
            "  [1 0 1]\n",
            "  ...\n",
            "  [1 0 1]\n",
            "  [1 0 1]\n",
            "  [1 0 1]]\n",
            "\n",
            " [[1 0 1]\n",
            "  [1 0 1]\n",
            "  [1 0 1]\n",
            "  ...\n",
            "  [1 0 1]\n",
            "  [1 0 1]\n",
            "  [1 0 1]]\n",
            "\n",
            " [[1 0 1]\n",
            "  [1 0 1]\n",
            "  [1 0 1]\n",
            "  ...\n",
            "  [1 0 1]\n",
            "  [1 0 1]\n",
            "  [1 0 1]]]\n"
          ],
          "name": "stdout"
        }
      ]
    },
    {
      "metadata": {
        "id": "cyiUzr9O0jSW",
        "colab_type": "text"
      },
      "cell_type": "markdown",
      "source": [
        "# モデルの構築\n"
      ]
    },
    {
      "metadata": {
        "id": "p6N9L9ul0lHU",
        "colab_type": "code",
        "colab": {}
      },
      "cell_type": "code",
      "source": [
        ""
      ],
      "execution_count": 0,
      "outputs": []
    }
  ]
}